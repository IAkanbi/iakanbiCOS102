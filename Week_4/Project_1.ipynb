{
 "cells": [
  {
   "cell_type": "code",
   "execution_count": 4,
   "id": "61ed15f7",
   "metadata": {},
   "outputs": [
    {
     "name": "stdout",
     "output_type": "stream",
     "text": [
      "Name            | Age             | Height          | Score\n",
      "----------------------------------------------------------------\n",
      "Evelyn          | 17              | 5.5             | 80             \n",
      "Jessica         | 16              | 6.0             | 85             \n",
      "Somto           | 17              | 5.4             | 70             \n",
      "Edith           | 18              | 5.9             | 60             \n",
      "Liza            | 16              | 5.6             | 76             \n",
      "Madonna         | 18              | 5.5             | 66             \n",
      "Waje            | 17              | 6.1             | 87             \n",
      "Tola            | 20              | 6.0             | 95             \n",
      "Aisha           | 19              | 5.7             | 50             \n",
      "Chinedu         | 19              | 5.7             | 74             \n",
      "Liam            | 16              | 5.9             | 87             \n",
      "Wale            | 18              | 5.8             | 75             \n",
      "Gbenga          | 17              | 6.1             | 68             \n",
      "Abiola          | 20              | 5.9             | 66             \n",
      "Kola            | 19              | 5.5             | 78             \n",
      "Kunle           | 16              | 6.1             | 87             \n",
      "George          | 18              | 5.4             | 98             \n",
      "Thomas          | 17              | 5.8             | 54             \n"
     ]
    }
   ],
   "source": [
    "girl_name = ['Evelyn', 'Jessica', 'Somto', 'Edith', 'Liza', 'Madonna', 'Waje', 'Tola', 'Aisha', 'Latifa']\n",
    "girl_age = [17,16,17,18,16,18,17,20,19,17]\n",
    "girl_height = [5.5,6.0,5.4,5.9,5.6,5.5,6.1,6.0,5.7,5.5]\n",
    "girl_score = [80,85,70,60,76,66,87,95,50,49]\n",
    "\n",
    "boy_name = ['Chinedu', 'Liam', 'Wale', 'Gbenga', 'Abiola', 'Kola', 'Kunle', 'George', 'Thomas', 'Wesley']\n",
    "boy_age = [19,16,18,17,20,19,16,18,17,19]\n",
    "boy_height = [5.7,5.9,5.8,6.1,5.9,5.5,6.1,5.4,5.8,5.7]\n",
    "boy_score = [74,87,75,68,66,78,87,98,54,60]\n",
    "\n",
    "print(f\"{'Name': <15} | {'Age': <15} | {'Height': <15} | {'Score'}\")\n",
    "print(\"----------------------------------------------------------------\")\n",
    "for i in range(0,9):\n",
    "    print(f\"{girl_name[i]: <15} | {girl_age[i]: <15} | {girl_height[i]: <15} | {girl_score[i]: <15}\")\n",
    "for i in range(0,9):\n",
    "    print(f\"{boy_name[i]: <15} | {boy_age[i]: <15} | {boy_height[i]: <15} | {boy_score[i]: <15}\")"
   ]
  }
 ],
 "metadata": {
  "kernelspec": {
   "display_name": "Python 3 (ipykernel)",
   "language": "python",
   "name": "python3"
  },
  "language_info": {
   "codemirror_mode": {
    "name": "ipython",
    "version": 3
   },
   "file_extension": ".py",
   "mimetype": "text/x-python",
   "name": "python",
   "nbconvert_exporter": "python",
   "pygments_lexer": "ipython3",
   "version": "3.9.12"
  }
 },
 "nbformat": 4,
 "nbformat_minor": 5
}
