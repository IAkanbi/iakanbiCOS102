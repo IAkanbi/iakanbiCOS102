{
 "cells": [
  {
   "cell_type": "markdown",
   "id": "12cd4d42",
   "metadata": {},
   "source": [
    "# Project 2"
   ]
  },
  {
   "cell_type": "markdown",
   "id": "6e8522d8",
   "metadata": {},
   "source": [
    "#### You have been requested to develop a program to algorithm and Python code to find the root of a cubic equation Ax3 + Bx2 + Cx + D = 0, the roots of a Quartic Equation, and the roots of a quadratic equation. Should you choose to accomplish the mission, write a Python program that requests and asks the user what operation to perform\n",
    "\n"
   ]
  },
  {
   "cell_type": "code",
   "execution_count": 16,
   "id": "9cde8aba",
   "metadata": {},
   "outputs": [
    {
     "name": "stdout",
     "output_type": "stream",
     "text": [
      "Welcome to the root calculator! What kind of equation would you like to solve? \n",
      "1 - Quadratic Equation(Ax2 + Bx + C)\n",
      "2 - Polynomial Equation(Ax3 + Bx2 + Cx + D)\n",
      "3 - Quartic Equation(Ax4 + Bx3 + Cx2 + Dx + E)\n",
      "Enter your selection here:2\n",
      "Please enter the values for your coefficients: \n",
      "\n",
      "Please enter a value for A:1\n",
      "Please enter a value for B:2\n",
      "Please enter a value for C:3\n",
      "Please enter a value for D (If Applicable):4\n",
      "Please enter a value for E (If Applicable):5\n",
      "\n",
      "You've chosen Polynomial Equation!\n",
      "\n",
      "The real roots of the equation are [-1.6506291914393891]\n"
     ]
    }
   ],
   "source": [
    "import numpy as np \n",
    "\n",
    "print(\"Welcome to the root calculator! What kind of equation would you like to solve? \")\n",
    "print('''1 - Quadratic Equation(Ax2 + Bx + C)\n",
    "2 - Polynomial Equation(Ax3 + Bx2 + Cx + D)\n",
    "3 - Quartic Equation(Ax4 + Bx3 + Cx2 + Dx + E)''')\n",
    "user_input = int(input(\"Enter your selection here:\"))\n",
    "\n",
    "print(\"Please enter the values for your coefficients: \")\n",
    "print()\n",
    "a = int(input(\"Please enter a value for A:\"))\n",
    "b = int(input(\"Please enter a value for B:\"))\n",
    "c = int(input(\"Please enter a value for C:\"))\n",
    "d = int(input(\"Please enter a value for D (If Applicable):\"))\n",
    "e = int(input(\"Please enter a value for E (If Applicable):\"))\n",
    "print()\n",
    "\n",
    "if user_input == 1:\n",
    "    print(\"You've selected Quadratic Equation.\")\n",
    "    discriminant = b**2 - 4*a*c\n",
    "    r1 = (-b + discriminant)/2*a\n",
    "    r2 = (-b - discriminant)/2*a\n",
    "    \n",
    "    print(f\"Your roots are {r1} and {r2}\")\n",
    "elif user_input == 2:\n",
    "    print(\"You've chosen Polynomial Equation!\")\n",
    "    print()\n",
    "    coefficients =[a,b,c,d]\n",
    "    roots = np.roots(coefficients)\n",
    "    real_roots = [root.real for root in roots if np.isreal(root)]\n",
    "    print(f\"The real roots of the equation are {real_roots}\")\n",
    "elif user_input == 3:\n",
    "    print(\"You've chosen Quartic Equation!\")\n",
    "    print()\n",
    "    coefficients =[a,b,c,d,e]\n",
    "    roots = np.roots(coefficients)\n",
    "    real_roots = [root.real for root in roots if np.isreal(root)]\n",
    "    print(f\"The real roots of the equation are {real_roots}\")"
   ]
  }
 ],
 "metadata": {
  "kernelspec": {
   "display_name": "Python 3 (ipykernel)",
   "language": "python",
   "name": "python3"
  },
  "language_info": {
   "codemirror_mode": {
    "name": "ipython",
    "version": 3
   },
   "file_extension": ".py",
   "mimetype": "text/x-python",
   "name": "python",
   "nbconvert_exporter": "python",
   "pygments_lexer": "ipython3",
   "version": "3.9.12"
  }
 },
 "nbformat": 4,
 "nbformat_minor": 5
}
