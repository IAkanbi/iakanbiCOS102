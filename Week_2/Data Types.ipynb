{
 "cells": [
  {
   "cell_type": "code",
   "execution_count": 3,
   "id": "439cd8b7",
   "metadata": {},
   "outputs": [
    {
     "name": "stdout",
     "output_type": "stream",
     "text": [
      "Hello World\n"
     ]
    }
   ],
   "source": [
    "print(\"Hello World\")"
   ]
  },
  {
   "cell_type": "markdown",
   "id": "4a92de82",
   "metadata": {},
   "source": [
    "### Integer Operations"
   ]
  },
  {
   "cell_type": "code",
   "execution_count": 19,
   "id": "fd148e09",
   "metadata": {},
   "outputs": [],
   "source": [
    "age = 34\n",
    "salary = 50\n",
    "\n",
    "# age + salary"
   ]
  },
  {
   "cell_type": "markdown",
   "id": "3a9639d3",
   "metadata": {},
   "source": [
    "### Float Numbers"
   ]
  },
  {
   "cell_type": "code",
   "execution_count": 44,
   "id": "4cb347ef",
   "metadata": {},
   "outputs": [
    {
     "name": "stdout",
     "output_type": "stream",
     "text": [
      "Their name is Alice\n",
      "Their name is John\n",
      "Their name is Maybach\n",
      "Their name is Chester\n"
     ]
    }
   ],
   "source": [
    "names = [\"Alice\", \"John\", \"Maybach\", \"Chester\"]\n",
    "\n",
    "for i in names:\n",
    "    print(f\"Their name is {i}\")\n"
   ]
  },
  {
   "cell_type": "code",
   "execution_count": 1,
   "id": "14dcee8c",
   "metadata": {},
   "outputs": [
    {
     "name": "stdout",
     "output_type": "stream",
     "text": [
      "Name:  50\n",
      "Age:  50\n"
     ]
    }
   ],
   "source": [
    "def printinfo(name,age):\n",
    "    print(\"Name: \", name)\n",
    "    print(\"Age: \", age)\n",
    "    return\n",
    "printinfo()\n"
   ]
  }
 ],
 "metadata": {
  "kernelspec": {
   "display_name": "Python 3 (ipykernel)",
   "language": "python",
   "name": "python3"
  },
  "language_info": {
   "codemirror_mode": {
    "name": "ipython",
    "version": 3
   },
   "file_extension": ".py",
   "mimetype": "text/x-python",
   "name": "python",
   "nbconvert_exporter": "python",
   "pygments_lexer": "ipython3",
   "version": "3.9.12"
  }
 },
 "nbformat": 4,
 "nbformat_minor": 5
}
